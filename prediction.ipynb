{
 "cells": [
  {
   "cell_type": "code",
   "execution_count": 1,
   "metadata": {},
   "outputs": [],
   "source": [
    "import pandas as pd\n",
    "import torch\n",
    "import torch.nn as nn\n",
    "import torch.optim as optim"
   ]
  },
  {
   "cell_type": "code",
   "execution_count": 2,
   "metadata": {},
   "outputs": [
    {
     "name": "stdout",
     "output_type": "stream",
     "text": [
      "                 a       b       c  risk_free_rate\n",
      "date                                              \n",
      "2019-01-31  0.3432  0.0695  0.0000            0.02\n",
      "2019-02-28  0.4540  0.0718  0.0000            0.02\n",
      "2019-03-31  0.4245  0.0616  0.0119            0.02\n",
      "2019-04-30  0.3623  0.0753  0.0355            0.02\n",
      "2019-05-31  0.1075  0.0661  0.0548            0.02\n"
     ]
    }
   ],
   "source": [
    "# read 'coefficients.csv'\n",
    "coefficients_df = pd.read_csv('coefficients.csv', index_col=0)\n",
    "\n",
    "# date, a, b, c, risk_free_rate\n",
    "print(coefficients_df.head())"
   ]
  },
  {
   "cell_type": "code",
   "execution_count": 6,
   "metadata": {},
   "outputs": [],
   "source": [
    "class LSTM(nn.Module):\n",
    "    def __init__(self, input_size=4, hidden_layer_size=100, output_size=4):\n",
    "        super().__init__()\n",
    "        self.hidden_layer_size = hidden_layer_size\n",
    "        self.lstm = nn.LSTM(input_size, hidden_layer_size)\n",
    "        self.linear = nn.Linear(hidden_layer_size, output_size)\n",
    "        self.hidden_cell = (torch.zeros(1,1,self.hidden_layer_size),\n",
    "                            torch.zeros(1,1,self.hidden_layer_size))\n",
    "\n",
    "    def forward(self, input_seq):\n",
    "        lstm_out, self.hidden_cell = self.lstm(input_seq.view(len(input_seq), 1, -1), self.hidden_cell)\n",
    "        predictions = self.linear(lstm_out.view(len(input_seq), -1))\n",
    "        return predictions[-1]"
   ]
  },
  {
   "cell_type": "code",
   "execution_count": 7,
   "metadata": {},
   "outputs": [],
   "source": [
    "model = LSTM()\n",
    "loss_function = nn.MSELoss()\n",
    "optimizer = optim.Adam(model.parameters(), lr=0.001)\n",
    "\n",
    "# Prepare the data\n",
    "data = coefficients_df[['a', 'b', 'c', 'risk_free_rate']].values\n",
    "data = torch.tensor(data, dtype=torch.float32)\n",
    "\n"
   ]
  },
  {
   "cell_type": "code",
   "execution_count": 8,
   "metadata": {},
   "outputs": [
    {
     "name": "stdout",
     "output_type": "stream",
     "text": [
      "epoch:   1 loss: 0.00234932\n",
      "epoch:  11 loss: 0.00001984\n",
      "epoch:  21 loss: 0.00005393\n",
      "epoch:  31 loss: 0.00005855\n",
      "epoch:  41 loss: 0.00005259\n",
      "epoch:  51 loss: 0.00009873\n",
      "epoch:  61 loss: 0.00014173\n",
      "epoch:  71 loss: 0.00019541\n",
      "epoch:  81 loss: 0.00022502\n",
      "epoch:  91 loss: 0.00018914\n",
      "epoch: 101 loss: 0.00014970\n",
      "epoch: 111 loss: 0.00013757\n",
      "epoch: 121 loss: 0.00019696\n",
      "epoch: 131 loss: 0.00018268\n",
      "epoch: 141 loss: 0.00010552\n"
     ]
    }
   ],
   "source": [
    "# train the model\n",
    "epochs = 150\n",
    "\n",
    "for i in range(epochs):\n",
    "    for index in range(len(data)):\n",
    "        optimizer.zero_grad()\n",
    "        model.hidden_cell = (torch.zeros(1, 1, model.hidden_layer_size),\n",
    "                             torch.zeros(1, 1, model.hidden_layer_size))\n",
    "\n",
    "        input_tensor = data[index].unsqueeze(0)  # Add batch dimension\n",
    "        y_pred = model(input_tensor)\n",
    "        y = data[index]\n",
    "        single_loss = loss_function(y_pred, y)\n",
    "        single_loss.backward()\n",
    "        optimizer.step()\n",
    "\n",
    "    if i % 10 == 1:\n",
    "        print(f'epoch: {i:3} loss: {single_loss.item():10.8f}')"
   ]
  }
 ],
 "metadata": {
  "kernelspec": {
   "display_name": "Python 3",
   "language": "python",
   "name": "python3"
  },
  "language_info": {
   "codemirror_mode": {
    "name": "ipython",
    "version": 3
   },
   "file_extension": ".py",
   "mimetype": "text/x-python",
   "name": "python",
   "nbconvert_exporter": "python",
   "pygments_lexer": "ipython3",
   "version": "3.12.3"
  }
 },
 "nbformat": 4,
 "nbformat_minor": 2
}
